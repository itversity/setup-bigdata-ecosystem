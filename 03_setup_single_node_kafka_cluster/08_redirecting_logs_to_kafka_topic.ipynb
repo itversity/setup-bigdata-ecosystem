{
 "cells": [
  {
   "cell_type": "markdown",
   "metadata": {},
   "source": [
    "## Redirecting logs to Kafka Topic\n",
    "\n",
    "Let us understand how we can redirect logs to Kafka Topic.\n",
    "* Once **gen_logs** is setup we can redirect the the output of `tail_logs.sh` into Kafka topic.\n",
    "* Let us first create a topic by name **retaildg**"
   ]
  },
  {
   "cell_type": "code",
   "execution_count": null,
   "metadata": {},
   "outputs": [],
   "source": [
    "!kafka-topics.sh --create \\\n",
    "  --zookeeper localhost:2181 \\\n",
    "  --replication-factor 1 \\\n",
    "  --partitions 1 \\\n",
    "  --topic retaildg"
   ]
  },
  {
   "cell_type": "code",
   "execution_count": null,
   "metadata": {},
   "outputs": [],
   "source": [
    "!kafka-topics.sh --list \\\n",
    "  --zookeeper localhost:2181 \\\n",
    "  --topic retaildg"
   ]
  },
  {
   "cell_type": "code",
   "execution_count": null,
   "metadata": {},
   "outputs": [],
   "source": [
    "!kafka-topics.sh --describe \\\n",
    "  --zookeeper localhost:2181 \\\n",
    "  --topic retaildg"
   ]
  },
  {
   "cell_type": "code",
   "execution_count": 2,
   "metadata": {},
   "outputs": [
    {
     "name": "stdout",
     "output_type": "stream",
     "text": [
      "206.41.144.102 - - [12/Apr/2021:22:06:11 -0800] \"GET /add_to_cart/1248 HTTP/1.1\" 200 1729 \"-\" \"Mozilla/5.0 (Windows NT 6.1; WOW64) AppleWebKit/537.36 (KHTML, like Gecko) Chrome/36.0.1985.125 Safari/537.36\"\n",
      "86.135.155.95 - - [12/Apr/2021:22:06:12 -0800] \"GET /product/1256 HTTP/1.1\" 200 546 \"-\" \"Mozilla/5.0 (Macintosh; Intel Mac OS X 10_9_4) AppleWebKit/537.36 (KHTML, like Gecko) Chrome/36.0.1985.125 Safari/537.36\"\n",
      "107.245.217.156 - - [12/Apr/2021:22:06:13 -0800] \"GET /department/apparel/categories HTTP/1.1\" 200 1269 \"-\" \"Mozilla/5.0 (X11; Linux x86_64) AppleWebKit/537.36 (KHTML, like Gecko) Chrome/35.0.1916.153 Safari/537.36\"\n",
      "201.27.127.27 - - [12/Apr/2021:22:06:14 -0800] \"GET /departments HTTP/1.1\" 200 1198 \"-\" \"Mozilla/5.0 (Macintosh; Intel Mac OS X 10_9_3) AppleWebKit/537.76.4 (KHTML, like Gecko) Version/7.0.4 Safari/537.76.4\"\n",
      "114.160.52.249 - - [12/Apr/2021:22:06:15 -0800] \"GET /checkout HTTP/1.1\" 200 820 \"-\" \"Mozilla/5.0 (Windows NT 6.1; WOW64; Trident/7.0; rv:11.0) like Gecko\"\n",
      "110.105.5.103 - - [12/Apr/2021:22:06:16 -0800] \"GET /departments HTTP/1.1\" 200 853 \"-\" \"Mozilla/5.0 (Windows NT 6.1; WOW64) AppleWebKit/537.36 (KHTML, like Gecko) Chrome/35.0.1916.153 Safari/537.36\"\n",
      "64.202.99.233 - - [12/Apr/2021:22:06:17 -0800] \"GET /checkout HTTP/1.1\" 200 1809 \"-\" \"Mozilla/5.0 (Windows NT 6.1; WOW64) AppleWebKit/537.36 (KHTML, like Gecko) Chrome/35.0.1916.153 Safari/537.36\"\n",
      "206.41.144.102 - - [12/Apr/2021:22:06:18 -0800] \"GET /add_to_cart/351 HTTP/1.1\" 200 1108 \"-\" \"Mozilla/5.0 (Macintosh; Intel Mac OS X 10_9_4) AppleWebKit/537.77.4 (KHTML, like Gecko) Version/7.0.5 Safari/537.77.4\"\n",
      "34.64.17.76 - - [12/Apr/2021:22:06:19 -0800] \"GET /department/footwear/categories HTTP/1.1\" 200 1608 \"-\" \"Mozilla/5.0 (X11; Linux x86_64) AppleWebKit/537.36 (KHTML, like Gecko) Chrome/35.0.1916.153 Safari/537.36\"\n",
      "176.34.71.63 - - [12/Apr/2021:22:06:20 -0800] \"GET /login HTTP/1.1\" 200 1016 \"-\" \"Mozilla/5.0 (Macintosh; Intel Mac OS X 10_9_4) AppleWebKit/537.77.4 (KHTML, like Gecko) Version/7.0.5 Safari/537.77.4\"\n",
      "^C\n"
     ]
    }
   ],
   "source": [
    "!/opt/gen_logs/tail_logs.sh"
   ]
  },
  {
   "cell_type": "code",
   "execution_count": 3,
   "metadata": {},
   "outputs": [],
   "source": [
    "!/opt/gen_logs/start_logs.sh"
   ]
  },
  {
   "cell_type": "code",
   "execution_count": 4,
   "metadata": {},
   "outputs": [
    {
     "name": "stdout",
     "output_type": "stream",
     "text": [
      "25.28.190.170 - - [12/Apr/2021:22:14:39 -0800] \"GET /add_to_cart/1318 HTTP/1.1\" 200 192 \"-\" \"Mozilla/5.0 (Windows NT 6.1; WOW64) AppleWebKit/537.36 (KHTML, like Gecko) Chrome/35.0.1916.153 Safari/537.36\"\n",
      "159.203.200.140 - - [12/Apr/2021:22:14:40 -0800] \"GET /department/golf/categories HTTP/1.1\" 200 1491 \"-\" \"Mozilla/5.0 (Windows NT 6.1; WOW64; Trident/7.0; rv:11.0) like Gecko\"\n",
      "110.132.189.218 - - [12/Apr/2021:22:14:41 -0800] \"GET /product/778 HTTP/1.1\" 200 787 \"-\" \"Mozilla/5.0 (Windows NT 6.1; WOW64) AppleWebKit/537.36 (KHTML, like Gecko) Chrome/35.0.1916.153 Safari/537.36\"\n",
      "9.114.90.216 - - [12/Apr/2021:22:14:42 -0800] \"GET /department/team%20sports/products HTTP/1.1\" 200 1179 \"-\" \"Mozilla/5.0 (Macintosh; Intel Mac OS X 10_9_3) AppleWebKit/537.76.4 (KHTML, like Gecko) Version/7.0.4 Safari/537.76.4\"\n",
      "30.146.168.64 - - [12/Apr/2021:22:14:43 -0800] \"GET /checkout HTTP/1.1\" 200 567 \"-\" \"Mozilla/5.0 (Windows NT 6.1; WOW64) AppleWebKit/537.36 (KHTML, like Gecko) Chrome/35.0.1916.153 Safari/537.36\"\n",
      "31.204.116.89 - - [12/Apr/2021:22:14:44 -0800] \"GET /department/team%20sports/products HTTP/1.1\" 200 1931 \"-\" \"Mozilla/5.0 (Windows NT 6.1; WOW64; rv:30.0) Gecko/20100101 Firefox/30.0\"\n",
      "96.248.62.234 - - [12/Apr/2021:22:14:45 -0800] \"GET /departments HTTP/1.1\" 200 1698 \"-\" \"Mozilla/5.0 (Macintosh; Intel Mac OS X 10_9_4) AppleWebKit/537.77.4 (KHTML, like Gecko) Version/7.0.5 Safari/537.77.4\"\n",
      "219.92.1.87 - - [12/Apr/2021:22:14:46 -0800] \"GET /departments HTTP/1.1\" 200 1968 \"-\" \"Mozilla/5.0 (Macintosh; Intel Mac OS X 10_9_3) AppleWebKit/537.36 (KHTML, like Gecko) Chrome/35.0.1916.153 Safari/537.36\"\n",
      "95.153.85.193 - - [12/Apr/2021:22:14:47 -0800] \"GET /departments HTTP/1.1\" 200 1784 \"-\" \"Mozilla/5.0 (Windows NT 6.1; WOW64; Trident/7.0; rv:11.0) like Gecko\"\n",
      "^C\n"
     ]
    }
   ],
   "source": [
    "!/opt/gen_logs/tail_logs.sh"
   ]
  },
  {
   "cell_type": "code",
   "execution_count": 5,
   "metadata": {},
   "outputs": [
    {
     "name": "stdout",
     "output_type": "stream",
     "text": [
      ">[2021-04-12 22:16:25,133] WARN [Producer clientId=console-producer] Error while fetching metadata with correlation id 1 : {retaildg=LEADER_NOT_AVAILABLE} (org.apache.kafka.clients.NetworkClient)\n",
      ">>>>>>>>>>>>>>>>>>>>>>>>>>>>>>>>>>>>>>>>>>>>>>>>>>>>>>>>>>>>>>>>>>>>>>>>>>>>>>>>>>>>>>>>>>>>>>>>>>>>>>>>>>>>>>>>>>>^C\n"
     ]
    }
   ],
   "source": [
    "!/opt/gen_logs/tail_logs.sh| \\\n",
    "  kafka-console-producer.sh \\\n",
    "    --bootstrap-server localhost:9092 \\\n",
    "    --topic retaildg"
   ]
  },
  {
   "cell_type": "markdown",
   "metadata": {},
   "source": [
    "* We can run `kafka-console-consumer` to consume messages from the topic **retaildg**. Run this using terminal.\n",
    "\n",
    "```shell\n",
    "kafka-console-consumer.sh \\\n",
    "  --bootstrap-server localhost:9092 \\\n",
    "  --topic retaildg \\\n",
    "  --from-beginning\n",
    "```"
   ]
  },
  {
   "cell_type": "code",
   "execution_count": null,
   "metadata": {},
   "outputs": [],
   "source": []
  }
 ],
 "metadata": {
  "kernelspec": {
   "display_name": "Python 3",
   "language": "python",
   "name": "python3"
  },
  "language_info": {
   "codemirror_mode": {
    "name": "ipython",
    "version": 3
   },
   "file_extension": ".py",
   "mimetype": "text/x-python",
   "name": "python",
   "nbconvert_exporter": "python",
   "pygments_lexer": "ipython3",
   "version": "3.6.9"
  }
 },
 "nbformat": 4,
 "nbformat_minor": 4
}
