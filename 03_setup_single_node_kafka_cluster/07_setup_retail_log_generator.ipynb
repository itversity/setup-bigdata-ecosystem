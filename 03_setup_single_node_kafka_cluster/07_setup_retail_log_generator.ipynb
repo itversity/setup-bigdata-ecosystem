{
 "cells": [
  {
   "cell_type": "markdown",
   "metadata": {},
   "source": [
    "## Setup retail log generator\n",
    "\n",
    "Let us take care of setting up retail log generator, where log messages are logged simulating user traffic to an eCommerce Platform.\n",
    "\n",
    "* Clone `gen-logs-python3` repository\n",
    "\n",
    "```shell\n",
    "git clone https://github.com/dgadiraju/gen-logs-python3.git\n",
    "```\n",
    "\n",
    "* Follow the instructions from the [README](https://github.com/dgadiraju/gen-logs-python3) of the **gen-logs-python3** repository.\n",
    "  * Identify directory /opt/\n",
    "  * Copy gen_logs directory to /opt - `sudo mv -f gen-logs-python3/gen_logs /opt`\n",
    "  * Remove the folder that is created as part of checkout - `rm -rf gen-logs-python3`\n",
    "  * Check the ownership of **/opt/gen_logs**. You can run `sudo chown -R ${USER} /opt/gen_logs`, if **/opt/gen_logs** is not owned by the logged in user.\n",
    "  * Update PATH in .profile or .bash_profile or create soft links for the shell programs - `export PATH=$PATH:/opt/gen_logs`\n",
    "  * Make sure to either restart shell or run `. ~/.profile` script. If your system have `.bash_profile`, you can run `. ~/.bash_profile`.\n",
    "  * Run `start_logs.sh` to start generating web logs\n",
    "  * Run `tail_logs.sh` to preview while logs are being generated (Hit ctrl-c to come out)\n",
    "  * Run `stop_logs.sh` to stop generating web logs\n",
    "  * The generated logs will be written to **/opt/gen_logs/logs/access.log**. You can run `ls -ltr /opt/gen_logs/logs/access.log` to review the file."
   ]
  },
  {
   "cell_type": "code",
   "execution_count": null,
   "metadata": {},
   "outputs": [],
   "source": []
  }
 ],
 "metadata": {
  "kernelspec": {
   "display_name": "Python 3",
   "language": "python",
   "name": "python3"
  },
  "language_info": {
   "codemirror_mode": {
    "name": "ipython",
    "version": 3
   },
   "file_extension": ".py",
   "mimetype": "text/x-python",
   "name": "python",
   "nbconvert_exporter": "python",
   "pygments_lexer": "ipython3",
   "version": "3.6.9"
  }
 },
 "nbformat": 4,
 "nbformat_minor": 4
}
