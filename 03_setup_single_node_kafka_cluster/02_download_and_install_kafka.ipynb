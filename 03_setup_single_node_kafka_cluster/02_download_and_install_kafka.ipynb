{
 "cells": [
  {
   "cell_type": "markdown",
   "metadata": {},
   "source": [
    "## Download and Install Kafka\n",
    "\n",
    "Let us go through the details related to downloading and installing Kafka on Ubuntu based virtual machine.\n",
    "\n",
    "* Go to [Kafka Downloads](https://kafka.apache.org/downloads) page.\n",
    "* Make sure to click on the binary link of the following.\n",
    "  * Kafka 2.6.0 or 2.6.1 using Scala 2.12.\n",
    "* Click on the link generated to go to the mirrors page. Choose one of the links and use `wget` command to download. Here is the command for reference.\n",
    "\n",
    "```shell\n",
    "wget https://mirror.jframeworks.com/apache/kafka/2.6.1/kafka_2.12-2.6.1.tgz\n",
    "```\n",
    "\n",
    "* Untar and unzip the downloaded compressed tar ball and then move it to **/opt**. Also make sure ownership is changed to the user logged in as well as soft link is created.\n",
    "\n",
    "```shell\n",
    "tar xzf kafka_2.12-2.6.1.tgz\n",
    "rm kafka_2.12-2.6.1.tgz\n",
    "sudo mv -f kafka_2.12-2.6.1 /opt\n",
    "sudo ln -s kafka_2.12-2.6.1 /opt/kafka\n",
    "```\n",
    "\n",
    "* Set the environment variables in **.profile**.\n",
    "\n",
    "```shell\n",
    "export KAFKA_HOME=/opt/kafka\n",
    "export PATH=$PATH:${KAFKA_HOME}/bin\n",
    "```\n",
    "\n",
    "* Make sure to run the profile or relogin. Here is how you can run the profile in the current active session.\n",
    "\n",
    "```shell\n",
    ". ~/.profile\n",
    "```"
   ]
  },
  {
   "cell_type": "code",
   "execution_count": null,
   "metadata": {},
   "outputs": [],
   "source": []
  }
 ],
 "metadata": {
  "kernelspec": {
   "display_name": "Pyspark 2",
   "language": "python",
   "name": "pyspark2"
  },
  "language_info": {
   "codemirror_mode": {
    "name": "ipython",
    "version": 3
   },
   "file_extension": ".py",
   "mimetype": "text/x-python",
   "name": "python",
   "nbconvert_exporter": "python",
   "pygments_lexer": "ipython3",
   "version": "3.6.12"
  }
 },
 "nbformat": 4,
 "nbformat_minor": 4
}
