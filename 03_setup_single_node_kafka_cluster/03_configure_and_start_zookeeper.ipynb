{
 "cells": [
  {
   "cell_type": "markdown",
   "metadata": {},
   "source": [
    "## Configure and Start Zookeeper\n",
    "\n",
    "Let us configure zookeeper that is embedded with Kafka and also start it. We will also validate it.\n",
    "\n",
    "* You can review the **zookeeper.properties** under **/opt/kafka/config**.\n",
    "* For single node Kafka cluster, you do not have to update any thing in the zookeeper.properties file.\n",
    "* We can start **zookeeper** as daemon using the following command.\n",
    "\n",
    "```shell\n",
    "zookeeper-server-start.sh -daemon /opt/kafka/config/zookeeper.properties\n",
    "```\n",
    "\n",
    "* You can validate by running the following commands.\n",
    "\n",
    "```shell\n",
    "ps -ef|grep zookeeper\n",
    "netstat -tulpn|grep 2181\n",
    "telnet localhost 2181\n",
    "```"
   ]
  },
  {
   "cell_type": "code",
   "execution_count": null,
   "metadata": {},
   "outputs": [],
   "source": []
  }
 ],
 "metadata": {
  "kernelspec": {
   "display_name": "Pyspark 2",
   "language": "python",
   "name": "pyspark2"
  },
  "language_info": {
   "codemirror_mode": {
    "name": "ipython",
    "version": 3
   },
   "file_extension": ".py",
   "mimetype": "text/x-python",
   "name": "python",
   "nbconvert_exporter": "python",
   "pygments_lexer": "ipython3",
   "version": "3.6.12"
  }
 },
 "nbformat": 4,
 "nbformat_minor": 4
}
