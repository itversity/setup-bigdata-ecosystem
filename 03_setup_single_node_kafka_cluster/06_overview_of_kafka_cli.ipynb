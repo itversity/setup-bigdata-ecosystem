{
 "cells": [
  {
   "cell_type": "markdown",
   "metadata": {},
   "source": [
    "## Overview of Kafka CLI Commands\n",
    "\n",
    "Let us understand some important Kafka Commands. We will also ensure that our single Kafka Cluster is setup properly.\n",
    "\n",
    "* First make sure that Zookeeper and Kafka are up and running.\n",
    "\n",
    "```shell\n",
    "telnet localhost 2181\n",
    "telnet localhost 9092\n",
    "```"
   ]
  },
  {
   "cell_type": "code",
   "execution_count": null,
   "metadata": {},
   "outputs": [],
   "source": [
    "# Create topics\n",
    "!kafka-topics.sh --create \\\n",
    "  --zookeeper nn01.itversity.com:2181,nn02.itversity.com:2181,rm01.itversity.com:2181 \\\n",
    "  --replication-factor 1 \\\n",
    "  --partitions 1 \\\n",
    "  --topic kafkadg"
   ]
  },
  {
   "cell_type": "code",
   "execution_count": null,
   "metadata": {},
   "outputs": [],
   "source": [
    "# List all topics\n",
    "!kafka-topics.sh --list \\\n",
    "  --zookeeper nn01.itversity.com:2181,nn02.itversity.com:2181,rm01.itversity.com:2181"
   ]
  },
  {
   "cell_type": "code",
   "execution_count": null,
   "metadata": {},
   "outputs": [],
   "source": [
    "# List one topic\n",
    "!kafka-topics.sh --list \\\n",
    "  --zookeeper nn01.itversity.com:2181,nn02.itversity.com:2181,rm01.itversity.com:2181 \\\n",
    "  --topic kafkadg"
   ]
  },
  {
   "cell_type": "code",
   "execution_count": null,
   "metadata": {},
   "outputs": [],
   "source": [
    "!kafka-topics.sh --delete \\\n",
    "  --zookeeper nn01.itversity.com:2181,nn02.itversity.com:2181,rm01.itversity.com:2181 \\\n",
    "  --topic testdg"
   ]
  },
  {
   "cell_type": "code",
   "execution_count": null,
   "metadata": {},
   "outputs": [],
   "source": [
    "# Command to produce messages, start typing after running this kakfa-console-producer command\n",
    "# The messages will be stored in topic kafkadg on the host where brokers are running\n",
    "!kafka-console-producer.sh \\\n",
    "  --broker-list wn01.itversity.com:6667,wn02.itversity.com:6667 \\\n",
    "  --topic kafkadg"
   ]
  },
  {
   "cell_type": "code",
   "execution_count": null,
   "metadata": {},
   "outputs": [],
   "source": [
    "# Open another shell and then run kafka-console-consumer command to see streaming messages\n",
    "!kafka-console-consumer.sh \\\n",
    "  --bootstrap-server wn01.itversity.com:6667,wn02.itversity.com:6667 \\\n",
    "  --topic kafkadg \\\n",
    "  --from-beginning"
   ]
  },
  {
   "cell_type": "code",
   "execution_count": null,
   "metadata": {},
   "outputs": [],
   "source": []
  }
 ],
 "metadata": {
  "kernelspec": {
   "display_name": "Pyspark 2",
   "language": "python",
   "name": "pyspark2"
  },
  "language_info": {
   "codemirror_mode": {
    "name": "ipython",
    "version": 3
   },
   "file_extension": ".py",
   "mimetype": "text/x-python",
   "name": "python",
   "nbconvert_exporter": "python",
   "pygments_lexer": "ipython3",
   "version": "3.6.12"
  }
 },
 "nbformat": 4,
 "nbformat_minor": 4
}
