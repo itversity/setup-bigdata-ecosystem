{
 "cells": [
  {
   "cell_type": "markdown",
   "metadata": {},
   "source": [
    "## Overview of Kafka CLI Commands\n",
    "\n",
    "Let us understand some important Kafka Commands.\n",
    "\n",
    "* First make sure that Zookeeper and Kafka are up and running.\n",
    "\n",
    "```shell\n",
    "telnet localhost 2181\n",
    "telnet localhost 9092\n",
    "```"
   ]
  },
  {
   "cell_type": "code",
   "execution_count": 1,
   "metadata": {},
   "outputs": [
    {
     "name": "stdout",
     "output_type": "stream",
     "text": [
      "Created topic kafkadg.\n"
     ]
    }
   ],
   "source": [
    "# Create topics\n",
    "!kafka-topics.sh --create \\\n",
    "  --zookeeper localhost:2181 \\\n",
    "  --replication-factor 1 \\\n",
    "  --partitions 1 \\\n",
    "  --topic kafkadg"
   ]
  },
  {
   "cell_type": "code",
   "execution_count": null,
   "metadata": {},
   "outputs": [],
   "source": [
    "# List all topics\n",
    "!kafka-topics.sh --list \\\n",
    "  --zookeeper localhost:2181"
   ]
  },
  {
   "cell_type": "code",
   "execution_count": 2,
   "metadata": {},
   "outputs": [
    {
     "name": "stdout",
     "output_type": "stream",
     "text": [
      "kafkadg\n"
     ]
    }
   ],
   "source": [
    "# List one topic\n",
    "!kafka-topics.sh --list \\\n",
    "  --zookeeper localhost:2181 \\\n",
    "  --topic kafkadg"
   ]
  },
  {
   "cell_type": "code",
   "execution_count": 3,
   "metadata": {},
   "outputs": [
    {
     "name": "stdout",
     "output_type": "stream",
     "text": [
      "Topic: kafkadg\tPartitionCount: 1\tReplicationFactor: 1\tConfigs: \n",
      "\tTopic: kafkadg\tPartition: 0\tLeader: 0\tReplicas: 0\tIsr: 0\n"
     ]
    }
   ],
   "source": [
    "!kafka-topics.sh --describe \\\n",
    "  --zookeeper localhost:2181 \\\n",
    "  --topic kafkadg"
   ]
  },
  {
   "cell_type": "code",
   "execution_count": null,
   "metadata": {},
   "outputs": [],
   "source": [
    "!kafka-topics.sh --delete \\\n",
    "  --zookeeper localhost:2181 \\\n",
    "  --topic kafkadg"
   ]
  },
  {
   "cell_type": "code",
   "execution_count": 4,
   "metadata": {},
   "outputs": [
    {
     "name": "stdout",
     "output_type": "stream",
     "text": [
      "Created topic kafkadg.\n"
     ]
    }
   ],
   "source": [
    "# Create topics\n",
    "!kafka-topics.sh --create \\\n",
    "  --zookeeper localhost:2181 \\\n",
    "  --replication-factor 1 \\\n",
    "  --partitions 1 \\\n",
    "  --topic kafkadg"
   ]
  },
  {
   "cell_type": "markdown",
   "metadata": {},
   "source": [
    "Here are the commands to test whether we are able to produce messages to Kafka topic as well as consume messages from it.\n",
    "\n",
    "* Produce messages in Kafka topic. Run this command opening a shell.\n",
    "\n",
    "```shell\n",
    "# Command to produce messages, start typing after running this kakfa-console-producer command\n",
    "# The messages will be stored in topic kafkadg on the host where brokers are running\n",
    "\n",
    "kafka-console-producer.sh \\\n",
    "  --bootstrap-server localhost:9092 \\\n",
    "  --topic kafkadg\n",
    "```\n",
    "\n",
    "* Consume messages from Kafka topic. Run this command opening another shell.\n",
    "\n",
    "```shell\n",
    "# Open another shell and then run kafka-console-consumer command to see streaming messages\n",
    "\n",
    "kafka-console-consumer.sh \\\n",
    "  --bootstrap-server localhost:9092 \\\n",
    "  --topic kafkadg \\\n",
    "  --from-beginning\n",
    "```"
   ]
  },
  {
   "cell_type": "code",
   "execution_count": null,
   "metadata": {},
   "outputs": [],
   "source": []
  }
 ],
 "metadata": {
  "kernelspec": {
   "display_name": "Python 3",
   "language": "python",
   "name": "python3"
  },
  "language_info": {
   "codemirror_mode": {
    "name": "ipython",
    "version": 3
   },
   "file_extension": ".py",
   "mimetype": "text/x-python",
   "name": "python",
   "nbconvert_exporter": "python",
   "pygments_lexer": "ipython3",
   "version": "3.6.9"
  }
 },
 "nbformat": 4,
 "nbformat_minor": 4
}
