{
 "cells": [
  {
   "cell_type": "markdown",
   "metadata": {},
   "source": [
    "## Configure and Start Kafka Broker\n",
    "\n",
    "Let us configure Kafka Broker, start and validate it..\n",
    "\n",
    "* You can review the **server.properties** under **/opt/kafka/config**. Make sure to review properties related to the following.\n",
    "  * Zookeeper\n",
    "  * Broker Listener (especially port)\n",
    "  * Kafka topic file location (log.dirs)\n",
    "* For single node Kafka cluster, you do not have to update any thing in the server.properties file.\n",
    "* We can start **Kafka Broker** as daemon using the following command.\n",
    "\n",
    "```shell\n",
    "kafka-server-start.sh -daemon /opt/kafka/config/server.properties\n",
    "```\n",
    "\n",
    "* You can validate by running the following commands.\n",
    "\n",
    "```shell\n",
    "ps -ef|grep kafka\n",
    "netstat -tulpn|grep 9092\n",
    "telnet localhost 9092\n",
    "```"
   ]
  }
 ],
 "metadata": {
  "kernelspec": {
   "display_name": "Pyspark 2",
   "language": "python",
   "name": "pyspark2"
  },
  "language_info": {
   "codemirror_mode": {
    "name": "ipython",
    "version": 3
   },
   "file_extension": ".py",
   "mimetype": "text/x-python",
   "name": "python",
   "nbconvert_exporter": "python",
   "pygments_lexer": "ipython3",
   "version": "3.6.12"
  }
 },
 "nbformat": 4,
 "nbformat_minor": 4
}
