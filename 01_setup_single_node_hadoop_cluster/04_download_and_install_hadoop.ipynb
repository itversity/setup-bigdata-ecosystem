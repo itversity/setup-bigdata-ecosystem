{
 "cells": [
  {
   "cell_type": "markdown",
   "metadata": {},
   "source": [
    "## Download and Install Hadoop\n",
    "\n",
    "Let us download and install hadoop. We will take care of configuring and starting Hadoop Components such as HDFS and YARN as part of subsequent topics in this section.\n",
    "\n",
    "* Go to this [location](https://hadoop.apache.org/releases.html) and download the zip file related to Hadoop. Here is the sample command using mirror related to 3.3.0 version of Hadoop.\n",
    "\n",
    "```shell\n",
    "wget https://mirrors.gigenet.com/apache/hadoop/common/hadoop-3.3.0/hadoop-3.3.0.tar.gz\n",
    "```\n",
    "\n",
    "* Once we download we should be able to untar using the following command.\n",
    "\n",
    "\n",
    "```shell\n",
    "tar xzf hadoop-3.3.0.tar.gz\n",
    "```\n",
    "\n",
    "* Move the folder to /opt, create soft link by name `/opt/hadoop` and also change the ownership of the folder to the user we have used for login.\n",
    "\n",
    "```shell\n",
    "sudo mv -f hadoop-3.3.0 /opt\n",
    "sudo chown ${USER}:${USER} -R /opt/hadoop-3.3.0\n",
    "sudo ln -s /opt/hadoop-3.3.0 /opt/hadoop\n",
    "```"
   ]
  },
  {
   "cell_type": "code",
   "execution_count": null,
   "metadata": {},
   "outputs": [],
   "source": []
  }
 ],
 "metadata": {
  "kernelspec": {
   "display_name": "Pyspark 2",
   "language": "python",
   "name": "pyspark2"
  },
  "language_info": {
   "codemirror_mode": {
    "name": "ipython",
    "version": 3
   },
   "file_extension": ".py",
   "mimetype": "text/x-python",
   "name": "python",
   "nbconvert_exporter": "python",
   "pygments_lexer": "ipython3",
   "version": "3.6.12"
  }
 },
 "nbformat": 4,
 "nbformat_minor": 4
}
