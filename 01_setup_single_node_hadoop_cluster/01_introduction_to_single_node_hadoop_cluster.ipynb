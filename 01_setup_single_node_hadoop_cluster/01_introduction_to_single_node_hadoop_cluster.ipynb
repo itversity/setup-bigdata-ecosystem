{
 "cells": [
  {
   "cell_type": "markdown",
   "metadata": {},
   "source": [
    "## Introduction to Single Node Hadoop Cluster\n",
    "\n",
    "As part of this section or module we will see details related to setting up single node hadoop cluster on a server."
   ]
  },
  {
   "cell_type": "code",
   "execution_count": null,
   "metadata": {
    "tags": [
     "remove-cell"
    ]
   },
   "outputs": [],
   "source": [
    "%%HTML\n",
    "<iframe width=\"560\" height=\"315\" src=\"https://www.youtube.com/embed/IwCJ6YREFxs?rel=0&amp;controls=1&amp;showinfo=0\" frameborder=\"0\" allowfullscreen></iframe>"
   ]
  },
  {
   "cell_type": "markdown",
   "metadata": {},
   "source": [
    "* We will use the Ubuntu 18.04 machine provisioned from GCP. As long as you use Ubuntu 18.04, you can follow these steps.\n",
    "* I would highly recommend to use multi node cluster for learning Hadoop, Spark, Kafka etc. Either you can use the cluster available at your work environment or you can sign up for our multi node cluster by going to this [link](https://labs.itversity.com).\n",
    "* In case if you want to setup environment by yourself, you can follow the topics in this section or module and take care of setting up the cluster.\n",
    "\n",
    "Here are the topics that are covered as part of this section or module.\n",
    "* Setup Prerequisites\n",
    "* Setup Passwordless login\n",
    "* Download and Install Hadoop\n",
    "* Configure Hadoop HDFS\n",
    "* Start and Validate HDFS\n",
    "* Configure Hadoop YARN\n",
    "* Start and Validate YARN\n",
    "\n",
    "You will see additional details related to Hive, Spark, setting up data sets in respective modules. If you sign up for our labs or have access to multinode cluster at your workplace, you can skip this module.\n",
    "\n",
    "I will not recommend you to set up these on your personal PC or Mac, unless you have a sophisticated high end machine."
   ]
  },
  {
   "cell_type": "code",
   "execution_count": null,
   "metadata": {},
   "outputs": [],
   "source": []
  }
 ],
 "metadata": {
  "kernelspec": {
   "display_name": "Pyspark 2",
   "language": "python",
   "name": "pyspark2"
  },
  "language_info": {
   "codemirror_mode": {
    "name": "ipython",
    "version": 3
   },
   "file_extension": ".py",
   "mimetype": "text/x-python",
   "name": "python",
   "nbconvert_exporter": "python",
   "pygments_lexer": "ipython3",
   "version": "3.6.12"
  }
 },
 "nbformat": 4,
 "nbformat_minor": 4
}
