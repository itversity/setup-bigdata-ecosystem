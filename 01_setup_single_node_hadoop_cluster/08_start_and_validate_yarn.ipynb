{
 "cells": [
  {
   "cell_type": "markdown",
   "metadata": {},
   "source": [
    "## Start and Validate YARN\n",
    "\n",
    "Let us start YARN and validate to see if the components related to YARN are started or not.\n",
    "\n",
    "* Ensure environment variables such as PATH are updated with bin as well as sbin folder of Hadooop.\n",
    "\n",
    "```shell\n",
    "echo $PATH\n",
    "```\n",
    "\n",
    "* We can start HDFS components using **start-yarn.sh**.\n",
    "\n",
    "```shell\n",
    "start-yarn.sh\n",
    "```\n",
    "\n",
    "* Run `jps` command to ensure resource manager and node manager are running as daemons."
   ]
  },
  {
   "cell_type": "code",
   "execution_count": null,
   "metadata": {},
   "outputs": [],
   "source": []
  }
 ],
 "metadata": {
  "kernelspec": {
   "display_name": "Python 3",
   "language": "python",
   "name": "python3"
  },
  "language_info": {
   "codemirror_mode": {
    "name": "ipython",
    "version": 3
   },
   "file_extension": ".py",
   "mimetype": "text/x-python",
   "name": "python",
   "nbconvert_exporter": "python",
   "pygments_lexer": "ipython3",
   "version": "3.6.12"
  }
 },
 "nbformat": 4,
 "nbformat_minor": 4
}
