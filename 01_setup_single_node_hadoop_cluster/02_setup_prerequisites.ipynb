{
 "cells": [
  {
   "cell_type": "markdown",
   "metadata": {},
   "source": [
    "## Setup Prerequisites\n",
    "\n",
    "Let us setup prerequisites that are required to setup Hadoop.\n",
    "\n",
    "* We need `wget` to download binaries.\n",
    "* Hadoop requires JDK and we can setup JDK using `apt` on Ubuntu.\n",
    "\n",
    "```shell\n",
    "sudo apt-get install openjdk-8-jdk -y\n",
    "```\n",
    "\n",
    "* We can validate for JDK using below commands.\n",
    "\n",
    "```shell\n",
    "java -version\n",
    "javac -version\n",
    "```"
   ]
  }
 ],
 "metadata": {
  "kernelspec": {
   "display_name": "Pyspark 2",
   "language": "python",
   "name": "pyspark2"
  },
  "language_info": {
   "codemirror_mode": {
    "name": "ipython",
    "version": 3
   },
   "file_extension": ".py",
   "mimetype": "text/x-python",
   "name": "python",
   "nbconvert_exporter": "python",
   "pygments_lexer": "ipython3",
   "version": "3.6.12"
  }
 },
 "nbformat": 4,
 "nbformat_minor": 4
}
