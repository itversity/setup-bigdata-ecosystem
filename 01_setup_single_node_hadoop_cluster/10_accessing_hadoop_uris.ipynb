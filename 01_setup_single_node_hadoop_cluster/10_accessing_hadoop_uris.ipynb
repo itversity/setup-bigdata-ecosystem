{
 "cells": [
  {
   "cell_type": "markdown",
   "metadata": {},
   "source": [
    "## Accessing Hadoop URIs\n",
    "\n",
    "As part of Hadoop setup, we can get few web based URIs which will help us accessing files in HDFS as well as applications submitted using YARN.\n",
    "* HDFS URI\n",
    "* Resource Manager URI\n",
    "* Map Reduce Job History Server URI"
   ]
  },
  {
   "cell_type": "code",
   "execution_count": null,
   "metadata": {},
   "outputs": [],
   "source": []
  }
 ],
 "metadata": {
  "kernelspec": {
   "display_name": "Pyspark 2",
   "language": "python",
   "name": "pyspark2"
  },
  "language_info": {
   "codemirror_mode": {
    "name": "ipython",
    "version": 3
   },
   "file_extension": ".py",
   "mimetype": "text/x-python",
   "name": "python",
   "nbconvert_exporter": "python",
   "pygments_lexer": "ipython3",
   "version": "3.6.12"
  }
 },
 "nbformat": 4,
 "nbformat_minor": 4
}
